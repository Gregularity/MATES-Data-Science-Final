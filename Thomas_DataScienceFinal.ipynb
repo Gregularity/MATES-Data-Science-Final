{
 "cells": [
  {
   "cell_type": "code",
   "execution_count": 3,
   "metadata": {},
   "outputs": [],
   "source": [
    "import pandas as pd\n",
    "import numpy as np\n",
    "import matplotlib.pyplot as plt\n",
    "import pandas as pd\n",
    "df = pd.read_csv(\"C:/Users/prath/Downloads/US_AQI.csv\")"
   ]
  },
  {
   "cell_type": "code",
   "execution_count": 4,
   "metadata": {},
   "outputs": [
    {
     "data": {
      "text/plain": [
       "(5617325, 15)"
      ]
     },
     "execution_count": 4,
     "metadata": {},
     "output_type": "execute_result"
    }
   ],
   "source": [
    "df.shape"
   ]
  },
  {
   "cell_type": "code",
   "execution_count": 5,
   "metadata": {},
   "outputs": [
    {
     "data": {
      "text/plain": [
       "(1123465, 15)"
      ]
     },
     "execution_count": 5,
     "metadata": {},
     "output_type": "execute_result"
    }
   ],
   "source": [
    "df = df[::5]\n",
    "df.shape"
   ]
  },
  {
   "cell_type": "code",
   "execution_count": 6,
   "metadata": {},
   "outputs": [
    {
     "data": {
      "text/html": [
       "<div>\n",
       "<style scoped>\n",
       "    .dataframe tbody tr th:only-of-type {\n",
       "        vertical-align: middle;\n",
       "    }\n",
       "\n",
       "    .dataframe tbody tr th {\n",
       "        vertical-align: top;\n",
       "    }\n",
       "\n",
       "    .dataframe thead th {\n",
       "        text-align: right;\n",
       "    }\n",
       "</style>\n",
       "<table border=\"1\" class=\"dataframe\">\n",
       "  <thead>\n",
       "    <tr style=\"text-align: right;\">\n",
       "      <th></th>\n",
       "      <th>Unnamed: 0</th>\n",
       "      <th>CBSA Code</th>\n",
       "      <th>Date</th>\n",
       "      <th>AQI</th>\n",
       "      <th>Category</th>\n",
       "      <th>Defining Parameter</th>\n",
       "      <th>Number of Sites Reporting</th>\n",
       "      <th>city_ascii</th>\n",
       "      <th>state_id</th>\n",
       "      <th>state_name</th>\n",
       "      <th>lat</th>\n",
       "      <th>lng</th>\n",
       "      <th>population</th>\n",
       "      <th>density</th>\n",
       "      <th>timezone</th>\n",
       "    </tr>\n",
       "  </thead>\n",
       "  <tbody>\n",
       "    <tr>\n",
       "      <th>0</th>\n",
       "      <td>0</td>\n",
       "      <td>10140</td>\n",
       "      <td>2022-01-01</td>\n",
       "      <td>21</td>\n",
       "      <td>Good</td>\n",
       "      <td>PM2.5</td>\n",
       "      <td>2</td>\n",
       "      <td>Aberdeen</td>\n",
       "      <td>WA</td>\n",
       "      <td>Washington</td>\n",
       "      <td>46.9757</td>\n",
       "      <td>-123.8094</td>\n",
       "      <td>16571.0</td>\n",
       "      <td>588.0</td>\n",
       "      <td>America/Los_Angeles</td>\n",
       "    </tr>\n",
       "    <tr>\n",
       "      <th>5</th>\n",
       "      <td>5</td>\n",
       "      <td>10140</td>\n",
       "      <td>2022-01-06</td>\n",
       "      <td>15</td>\n",
       "      <td>Good</td>\n",
       "      <td>PM2.5</td>\n",
       "      <td>2</td>\n",
       "      <td>Aberdeen</td>\n",
       "      <td>WA</td>\n",
       "      <td>Washington</td>\n",
       "      <td>46.9757</td>\n",
       "      <td>-123.8094</td>\n",
       "      <td>16571.0</td>\n",
       "      <td>588.0</td>\n",
       "      <td>America/Los_Angeles</td>\n",
       "    </tr>\n",
       "    <tr>\n",
       "      <th>10</th>\n",
       "      <td>10</td>\n",
       "      <td>10140</td>\n",
       "      <td>2022-01-11</td>\n",
       "      <td>20</td>\n",
       "      <td>Good</td>\n",
       "      <td>PM2.5</td>\n",
       "      <td>2</td>\n",
       "      <td>Aberdeen</td>\n",
       "      <td>WA</td>\n",
       "      <td>Washington</td>\n",
       "      <td>46.9757</td>\n",
       "      <td>-123.8094</td>\n",
       "      <td>16571.0</td>\n",
       "      <td>588.0</td>\n",
       "      <td>America/Los_Angeles</td>\n",
       "    </tr>\n",
       "    <tr>\n",
       "      <th>15</th>\n",
       "      <td>15</td>\n",
       "      <td>10140</td>\n",
       "      <td>2022-01-16</td>\n",
       "      <td>18</td>\n",
       "      <td>Good</td>\n",
       "      <td>PM2.5</td>\n",
       "      <td>2</td>\n",
       "      <td>Aberdeen</td>\n",
       "      <td>WA</td>\n",
       "      <td>Washington</td>\n",
       "      <td>46.9757</td>\n",
       "      <td>-123.8094</td>\n",
       "      <td>16571.0</td>\n",
       "      <td>588.0</td>\n",
       "      <td>America/Los_Angeles</td>\n",
       "    </tr>\n",
       "    <tr>\n",
       "      <th>20</th>\n",
       "      <td>20</td>\n",
       "      <td>10140</td>\n",
       "      <td>2022-01-21</td>\n",
       "      <td>13</td>\n",
       "      <td>Good</td>\n",
       "      <td>PM2.5</td>\n",
       "      <td>2</td>\n",
       "      <td>Aberdeen</td>\n",
       "      <td>WA</td>\n",
       "      <td>Washington</td>\n",
       "      <td>46.9757</td>\n",
       "      <td>-123.8094</td>\n",
       "      <td>16571.0</td>\n",
       "      <td>588.0</td>\n",
       "      <td>America/Los_Angeles</td>\n",
       "    </tr>\n",
       "  </tbody>\n",
       "</table>\n",
       "</div>"
      ],
      "text/plain": [
       "    Unnamed: 0  CBSA Code        Date  AQI Category Defining Parameter  \\\n",
       "0            0      10140  2022-01-01   21     Good              PM2.5   \n",
       "5            5      10140  2022-01-06   15     Good              PM2.5   \n",
       "10          10      10140  2022-01-11   20     Good              PM2.5   \n",
       "15          15      10140  2022-01-16   18     Good              PM2.5   \n",
       "20          20      10140  2022-01-21   13     Good              PM2.5   \n",
       "\n",
       "    Number of Sites Reporting city_ascii state_id  state_name      lat  \\\n",
       "0                           2   Aberdeen       WA  Washington  46.9757   \n",
       "5                           2   Aberdeen       WA  Washington  46.9757   \n",
       "10                          2   Aberdeen       WA  Washington  46.9757   \n",
       "15                          2   Aberdeen       WA  Washington  46.9757   \n",
       "20                          2   Aberdeen       WA  Washington  46.9757   \n",
       "\n",
       "         lng  population  density             timezone  \n",
       "0  -123.8094     16571.0    588.0  America/Los_Angeles  \n",
       "5  -123.8094     16571.0    588.0  America/Los_Angeles  \n",
       "10 -123.8094     16571.0    588.0  America/Los_Angeles  \n",
       "15 -123.8094     16571.0    588.0  America/Los_Angeles  \n",
       "20 -123.8094     16571.0    588.0  America/Los_Angeles  "
      ]
     },
     "execution_count": 6,
     "metadata": {},
     "output_type": "execute_result"
    }
   ],
   "source": [
    "df.head()"
   ]
  },
  {
   "cell_type": "code",
   "execution_count": 7,
   "metadata": {},
   "outputs": [
    {
     "data": {
      "text/plain": [
       "Index(['Unnamed: 0', 'CBSA Code', 'Date', 'AQI', 'Category',\n",
       "       'Defining Parameter', 'Number of Sites Reporting', 'city_ascii',\n",
       "       'state_id', 'state_name', 'lat', 'lng', 'population', 'density',\n",
       "       'timezone'],\n",
       "      dtype='object')"
      ]
     },
     "execution_count": 7,
     "metadata": {},
     "output_type": "execute_result"
    }
   ],
   "source": [
    "df.columns"
   ]
  },
  {
   "cell_type": "code",
   "execution_count": 8,
   "metadata": {},
   "outputs": [],
   "source": [
    "df.drop([\"Unnamed: 0\", \"CBSA Code\", \"Category\",'city_ascii', \"Number of Sites Reporting\", \"state_id\", \"timezone\"], axis = 1, inplace = True)"
   ]
  },
  {
   "cell_type": "code",
   "execution_count": 9,
   "metadata": {},
   "outputs": [
    {
     "data": {
      "text/plain": [
       "Index(['Date', 'AQI', 'Defining Parameter', 'state_name', 'lat', 'lng',\n",
       "       'population', 'density'],\n",
       "      dtype='object')"
      ]
     },
     "execution_count": 9,
     "metadata": {},
     "output_type": "execute_result"
    }
   ],
   "source": [
    "df.columns"
   ]
  },
  {
   "cell_type": "code",
   "execution_count": 10,
   "metadata": {},
   "outputs": [],
   "source": [
    "import datetime as dt\n",
    "\n",
    "df['Date'] = pd.to_datetime(df['Date'])\n",
    "df['Date'] = (df['Date'] - dt.datetime(1970,1,1)).dt.total_seconds()"
   ]
  },
  {
   "cell_type": "code",
   "execution_count": 11,
   "metadata": {},
   "outputs": [
    {
     "name": "stdout",
     "output_type": "stream",
     "text": [
      "              0      1           2        3         4         5       6\n",
      "0  1640995200.0  PM2.5  Washington  46.9757 -123.8094   16571.0   588.0\n",
      "1  1641427200.0  PM2.5  Washington  46.9757 -123.8094   16571.0   588.0\n",
      "2  1641859200.0  PM2.5  Washington  46.9757 -123.8094   16571.0   588.0\n",
      "3  1642291200.0  PM2.5  Washington  46.9757 -123.8094   16571.0   588.0\n",
      "4  1642723200.0  PM2.5  Washington  46.9757 -123.8094   16571.0   588.0\n",
      "5  1643155200.0  PM2.5  Washington  46.9757 -123.8094   16571.0   588.0\n",
      "6  1643587200.0  PM2.5  Washington  46.9757 -123.8094   16571.0   588.0\n",
      "7  1641340800.0  PM2.5        Ohio  41.0798  -81.5219  570375.0  1230.0\n",
      "8  1641772800.0  PM2.5        Ohio  41.0798  -81.5219  570375.0  1230.0\n",
      "9  1642204800.0  PM2.5        Ohio  41.0798  -81.5219  570375.0  1230.0\n",
      "    0\n",
      "0  21\n",
      "1  15\n",
      "2  20\n",
      "3  18\n",
      "4  13\n",
      "5  28\n",
      "6  18\n",
      "7  30\n",
      "8  20\n",
      "9  17\n"
     ]
    }
   ],
   "source": [
    "df = df[['Date', 'Defining Parameter', 'state_name', 'lat',\n",
    "       'lng', 'population', 'density', \"AQI\"]]\n",
    "X = df.iloc[:, 0:7].values\n",
    "y = df.iloc[:, 7].values\n",
    "print(pd.DataFrame(X[:10]))\n",
    "print(pd.DataFrame(y[:10]))"
   ]
  },
  {
   "cell_type": "code",
   "execution_count": 12,
   "metadata": {},
   "outputs": [
    {
     "data": {
      "text/plain": [
       "Date                  float64\n",
       "Defining Parameter     object\n",
       "state_name             object\n",
       "lat                   float64\n",
       "lng                   float64\n",
       "population            float64\n",
       "density               float64\n",
       "AQI                     int64\n",
       "dtype: object"
      ]
     },
     "execution_count": 12,
     "metadata": {},
     "output_type": "execute_result"
    }
   ],
   "source": [
    "df.dtypes"
   ]
  },
  {
   "cell_type": "code",
   "execution_count": 13,
   "metadata": {},
   "outputs": [
    {
     "data": {
      "text/plain": [
       "Date                  float64\n",
       "Defining Parameter     object\n",
       "state_name             object\n",
       "lat                   float64\n",
       "lng                   float64\n",
       "population            float64\n",
       "density               float64\n",
       "AQI                     int64\n",
       "dtype: object"
      ]
     },
     "execution_count": 13,
     "metadata": {},
     "output_type": "execute_result"
    }
   ],
   "source": [
    "df.dtypes"
   ]
  },
  {
   "cell_type": "code",
   "execution_count": 14,
   "metadata": {},
   "outputs": [
    {
     "data": {
      "text/html": [
       "<div>\n",
       "<style scoped>\n",
       "    .dataframe tbody tr th:only-of-type {\n",
       "        vertical-align: middle;\n",
       "    }\n",
       "\n",
       "    .dataframe tbody tr th {\n",
       "        vertical-align: top;\n",
       "    }\n",
       "\n",
       "    .dataframe thead th {\n",
       "        text-align: right;\n",
       "    }\n",
       "</style>\n",
       "<table border=\"1\" class=\"dataframe\">\n",
       "  <thead>\n",
       "    <tr style=\"text-align: right;\">\n",
       "      <th></th>\n",
       "      <th>Date</th>\n",
       "      <th>Defining Parameter</th>\n",
       "      <th>state_name</th>\n",
       "      <th>lat</th>\n",
       "      <th>lng</th>\n",
       "      <th>population</th>\n",
       "      <th>density</th>\n",
       "      <th>AQI</th>\n",
       "    </tr>\n",
       "  </thead>\n",
       "  <tbody>\n",
       "    <tr>\n",
       "      <th>0</th>\n",
       "      <td>1.640995e+09</td>\n",
       "      <td>PM2.5</td>\n",
       "      <td>Washington</td>\n",
       "      <td>46.9757</td>\n",
       "      <td>-123.8094</td>\n",
       "      <td>16571.0</td>\n",
       "      <td>588.0</td>\n",
       "      <td>21</td>\n",
       "    </tr>\n",
       "    <tr>\n",
       "      <th>5</th>\n",
       "      <td>1.641427e+09</td>\n",
       "      <td>PM2.5</td>\n",
       "      <td>Washington</td>\n",
       "      <td>46.9757</td>\n",
       "      <td>-123.8094</td>\n",
       "      <td>16571.0</td>\n",
       "      <td>588.0</td>\n",
       "      <td>15</td>\n",
       "    </tr>\n",
       "    <tr>\n",
       "      <th>10</th>\n",
       "      <td>1.641859e+09</td>\n",
       "      <td>PM2.5</td>\n",
       "      <td>Washington</td>\n",
       "      <td>46.9757</td>\n",
       "      <td>-123.8094</td>\n",
       "      <td>16571.0</td>\n",
       "      <td>588.0</td>\n",
       "      <td>20</td>\n",
       "    </tr>\n",
       "    <tr>\n",
       "      <th>15</th>\n",
       "      <td>1.642291e+09</td>\n",
       "      <td>PM2.5</td>\n",
       "      <td>Washington</td>\n",
       "      <td>46.9757</td>\n",
       "      <td>-123.8094</td>\n",
       "      <td>16571.0</td>\n",
       "      <td>588.0</td>\n",
       "      <td>18</td>\n",
       "    </tr>\n",
       "    <tr>\n",
       "      <th>20</th>\n",
       "      <td>1.642723e+09</td>\n",
       "      <td>PM2.5</td>\n",
       "      <td>Washington</td>\n",
       "      <td>46.9757</td>\n",
       "      <td>-123.8094</td>\n",
       "      <td>16571.0</td>\n",
       "      <td>588.0</td>\n",
       "      <td>13</td>\n",
       "    </tr>\n",
       "  </tbody>\n",
       "</table>\n",
       "</div>"
      ],
      "text/plain": [
       "            Date Defining Parameter  state_name      lat       lng  \\\n",
       "0   1.640995e+09              PM2.5  Washington  46.9757 -123.8094   \n",
       "5   1.641427e+09              PM2.5  Washington  46.9757 -123.8094   \n",
       "10  1.641859e+09              PM2.5  Washington  46.9757 -123.8094   \n",
       "15  1.642291e+09              PM2.5  Washington  46.9757 -123.8094   \n",
       "20  1.642723e+09              PM2.5  Washington  46.9757 -123.8094   \n",
       "\n",
       "    population  density  AQI  \n",
       "0      16571.0    588.0   21  \n",
       "5      16571.0    588.0   15  \n",
       "10     16571.0    588.0   20  \n",
       "15     16571.0    588.0   18  \n",
       "20     16571.0    588.0   13  "
      ]
     },
     "execution_count": 14,
     "metadata": {},
     "output_type": "execute_result"
    }
   ],
   "source": [
    "df.head()"
   ]
  },
  {
   "cell_type": "code",
   "execution_count": 15,
   "metadata": {},
   "outputs": [],
   "source": [
    "from sklearn.preprocessing import LabelEncoder, OneHotEncoder\n",
    "from sklearn.compose import ColumnTransformer"
   ]
  },
  {
   "cell_type": "code",
   "execution_count": 16,
   "metadata": {},
   "outputs": [
    {
     "name": "stdout",
     "output_type": "stream",
     "text": [
      "              0      1           2        3         4        5      6\n",
      "0  1640995200.0  PM2.5  Washington  46.9757 -123.8094  16571.0  588.0\n",
      "1  1641427200.0  PM2.5  Washington  46.9757 -123.8094  16571.0  588.0\n",
      "2  1641859200.0  PM2.5  Washington  46.9757 -123.8094  16571.0  588.0\n"
     ]
    }
   ],
   "source": [
    "print(pd.DataFrame(X[:3]))"
   ]
  },
  {
   "cell_type": "code",
   "execution_count": 17,
   "metadata": {},
   "outputs": [
    {
     "name": "stdout",
     "output_type": "stream",
     "text": [
      "    0    1    2    3    4             5           6        7         8   \\\n",
      "0  0.0  0.0  0.0  0.0  1.0  1640995200.0  Washington  46.9757 -123.8094   \n",
      "1  0.0  0.0  0.0  0.0  1.0  1641427200.0  Washington  46.9757 -123.8094   \n",
      "2  0.0  0.0  0.0  0.0  1.0  1641859200.0  Washington  46.9757 -123.8094   \n",
      "3  0.0  0.0  0.0  0.0  1.0  1642291200.0  Washington  46.9757 -123.8094   \n",
      "4  0.0  0.0  0.0  0.0  1.0  1642723200.0  Washington  46.9757 -123.8094   \n",
      "5  0.0  0.0  0.0  0.0  1.0  1643155200.0  Washington  46.9757 -123.8094   \n",
      "6  0.0  0.0  0.0  0.0  1.0  1643587200.0  Washington  46.9757 -123.8094   \n",
      "7  0.0  0.0  0.0  0.0  1.0  1641340800.0        Ohio  41.0798  -81.5219   \n",
      "8  0.0  0.0  0.0  0.0  1.0  1641772800.0        Ohio  41.0798  -81.5219   \n",
      "9  0.0  0.0  0.0  0.0  1.0  1642204800.0        Ohio  41.0798  -81.5219   \n",
      "\n",
      "         9       10  \n",
      "0   16571.0   588.0  \n",
      "1   16571.0   588.0  \n",
      "2   16571.0   588.0  \n",
      "3   16571.0   588.0  \n",
      "4   16571.0   588.0  \n",
      "5   16571.0   588.0  \n",
      "6   16571.0   588.0  \n",
      "7  570375.0  1230.0  \n",
      "8  570375.0  1230.0  \n",
      "9  570375.0  1230.0  \n"
     ]
    }
   ],
   "source": [
    "ct = ColumnTransformer([(\"Defining Parameter\", OneHotEncoder(), [1])], remainder = 'passthrough', sparse_threshold=0)\n",
    "X = ct.fit_transform(X)\n",
    "print(pd.DataFrame(X[:10]))"
   ]
  },
  {
   "cell_type": "code",
   "execution_count": 18,
   "metadata": {},
   "outputs": [
    {
     "data": {
      "text/plain": [
       "Date                  float64\n",
       "Defining Parameter     object\n",
       "state_name             object\n",
       "lat                   float64\n",
       "lng                   float64\n",
       "population            float64\n",
       "density               float64\n",
       "AQI                     int64\n",
       "dtype: object"
      ]
     },
     "execution_count": 18,
     "metadata": {},
     "output_type": "execute_result"
    }
   ],
   "source": [
    "df.dtypes"
   ]
  },
  {
   "cell_type": "code",
   "execution_count": 35,
   "metadata": {},
   "outputs": [
    {
     "name": "stdout",
     "output_type": "stream",
     "text": [
      "(898772, 62)\n"
     ]
    }
   ],
   "source": [
    "print(X_train.shape)"
   ]
  },
  {
   "cell_type": "code",
   "execution_count": 19,
   "metadata": {},
   "outputs": [
    {
     "name": "stdout",
     "output_type": "stream",
     "text": [
      "    0    1    2    3    4    5    6    7    8    9   ...   52   53   54   55  \\\n",
      "0  0.0  0.0  0.0  0.0  0.0  0.0  0.0  0.0  0.0  0.0  ...  0.0  0.0  0.0  0.0   \n",
      "1  0.0  0.0  0.0  0.0  0.0  0.0  0.0  0.0  0.0  0.0  ...  0.0  0.0  0.0  0.0   \n",
      "2  0.0  0.0  0.0  0.0  0.0  0.0  0.0  0.0  0.0  0.0  ...  0.0  0.0  0.0  0.0   \n",
      "3  0.0  0.0  0.0  0.0  0.0  0.0  0.0  0.0  0.0  0.0  ...  0.0  0.0  0.0  0.0   \n",
      "4  0.0  0.0  0.0  0.0  0.0  0.0  0.0  0.0  0.0  0.0  ...  0.0  0.0  0.0  0.0   \n",
      "5  0.0  0.0  0.0  0.0  0.0  0.0  0.0  0.0  0.0  0.0  ...  0.0  0.0  0.0  0.0   \n",
      "6  0.0  0.0  0.0  0.0  0.0  0.0  0.0  0.0  0.0  0.0  ...  0.0  0.0  0.0  0.0   \n",
      "7  0.0  0.0  0.0  0.0  0.0  0.0  0.0  0.0  0.0  0.0  ...  0.0  0.0  0.0  0.0   \n",
      "8  0.0  0.0  0.0  0.0  0.0  0.0  0.0  0.0  0.0  0.0  ...  0.0  0.0  0.0  0.0   \n",
      "9  0.0  0.0  0.0  0.0  0.0  0.0  0.0  0.0  0.0  0.0  ...  0.0  0.0  0.0  0.0   \n",
      "\n",
      "    56            57       58        59        60      61  \n",
      "0  1.0  1640995200.0  46.9757 -123.8094   16571.0   588.0  \n",
      "1  1.0  1641427200.0  46.9757 -123.8094   16571.0   588.0  \n",
      "2  1.0  1641859200.0  46.9757 -123.8094   16571.0   588.0  \n",
      "3  1.0  1642291200.0  46.9757 -123.8094   16571.0   588.0  \n",
      "4  1.0  1642723200.0  46.9757 -123.8094   16571.0   588.0  \n",
      "5  1.0  1643155200.0  46.9757 -123.8094   16571.0   588.0  \n",
      "6  1.0  1643587200.0  46.9757 -123.8094   16571.0   588.0  \n",
      "7  1.0  1641340800.0  41.0798  -81.5219  570375.0  1230.0  \n",
      "8  1.0  1641772800.0  41.0798  -81.5219  570375.0  1230.0  \n",
      "9  1.0  1642204800.0  41.0798  -81.5219  570375.0  1230.0  \n",
      "\n",
      "[10 rows x 62 columns]\n"
     ]
    }
   ],
   "source": [
    "ct = ColumnTransformer([(\"state_name\", OneHotEncoder(), [6])], remainder = 'passthrough', sparse_threshold=0)\n",
    "X = ct.fit_transform(X)\n",
    "print(pd.DataFrame(X[:10]))"
   ]
  },
  {
   "cell_type": "code",
   "execution_count": 20,
   "metadata": {},
   "outputs": [
    {
     "data": {
      "text/plain": [
       "Date                  15486\n",
       "Defining Parameter        5\n",
       "state_name               52\n",
       "lat                     670\n",
       "lng                     671\n",
       "population              669\n",
       "density                 534\n",
       "AQI                     460\n",
       "dtype: int64"
      ]
     },
     "execution_count": 20,
     "metadata": {},
     "output_type": "execute_result"
    }
   ],
   "source": [
    "df.nunique()"
   ]
  },
  {
   "cell_type": "code",
   "execution_count": 21,
   "metadata": {},
   "outputs": [],
   "source": [
    "from sklearn.model_selection import train_test_split\n",
    "X_train, X_test, y_train, y_test = train_test_split(X, y, test_size = 0.2, random_state = 0)"
   ]
  },
  {
   "cell_type": "code",
   "execution_count": 22,
   "metadata": {},
   "outputs": [],
   "source": [
    "# Feature Scaling\n",
    "from sklearn.preprocessing import StandardScaler\n",
    "sc = StandardScaler()\n",
    "X_train = sc.fit_transform(X_train)\n",
    "X_test = sc.transform(X_test)"
   ]
  },
  {
   "cell_type": "code",
   "execution_count": 23,
   "metadata": {},
   "outputs": [],
   "source": [
    "from tensorflow.keras.models import Sequential # For building the Neural Network layer by layer\n",
    "from tensorflow.keras.layers import Dense # To randomly initialize the weights to small numbers close to 0(But not 0)"
   ]
  },
  {
   "cell_type": "code",
   "execution_count": 24,
   "metadata": {},
   "outputs": [],
   "source": [
    "classifier = Sequential()"
   ]
  },
  {
   "cell_type": "code",
   "execution_count": 49,
   "metadata": {},
   "outputs": [],
   "source": [
    "X_train = X_train.reshape((-1, 62))\n",
    "X_train = np.asarray(X_train, dtype=np.float32)"
   ]
  },
  {
   "cell_type": "code",
   "execution_count": 50,
   "metadata": {},
   "outputs": [
    {
     "name": "stdout",
     "output_type": "stream",
     "text": [
      "X_train shape: (898772, 62)\n",
      "y_train shape: (898772,)\n"
     ]
    }
   ],
   "source": [
    "print(f\"X_train shape: {X_train.shape}\")\n",
    "print(f\"y_train shape: {y_train.shape}\")"
   ]
  },
  {
   "cell_type": "code",
   "execution_count": null,
   "metadata": {},
   "outputs": [
    {
     "name": "stderr",
     "output_type": "stream",
     "text": [
      "C:\\Users\\prath\\AppData\\Roaming\\Python\\Python311\\site-packages\\keras\\src\\layers\\core\\dense.py:87: UserWarning: Do not pass an `input_shape`/`input_dim` argument to a layer. When using Sequential models, prefer using an `Input(shape)` object as the first layer in the model instead.\n",
      "  super().__init__(activity_regularizer=activity_regularizer, **kwargs)\n"
     ]
    }
   ],
   "source": [
    "model = Sequential()\n",
    "model.add(Dense(64, input_shape=(62,), activation='relu')) \n",
    "model.add(Dense(1, activation='linear')) "
   ]
  },
  {
   "cell_type": "code",
   "execution_count": 52,
   "metadata": {},
   "outputs": [],
   "source": [
    "model.compile(optimizer='adam', loss='mean_squared_error', metrics=['mse'])"
   ]
  },
  {
   "cell_type": "code",
   "execution_count": 53,
   "metadata": {},
   "outputs": [
    {
     "data": {
      "text/html": [
       "<pre style=\"white-space:pre;overflow-x:auto;line-height:normal;font-family:Menlo,'DejaVu Sans Mono',consolas,'Courier New',monospace\"><span style=\"font-weight: bold\">Model: \"sequential_2\"</span>\n",
       "</pre>\n"
      ],
      "text/plain": [
       "\u001b[1mModel: \"sequential_2\"\u001b[0m\n"
      ]
     },
     "metadata": {},
     "output_type": "display_data"
    },
    {
     "data": {
      "text/html": [
       "<pre style=\"white-space:pre;overflow-x:auto;line-height:normal;font-family:Menlo,'DejaVu Sans Mono',consolas,'Courier New',monospace\">┏━━━━━━━━━━━━━━━━━━━━━━━━━━━━━━━━━┳━━━━━━━━━━━━━━━━━━━━━━━━┳━━━━━━━━━━━━━━━┓\n",
       "┃<span style=\"font-weight: bold\"> Layer (type)                    </span>┃<span style=\"font-weight: bold\"> Output Shape           </span>┃<span style=\"font-weight: bold\">       Param # </span>┃\n",
       "┡━━━━━━━━━━━━━━━━━━━━━━━━━━━━━━━━━╇━━━━━━━━━━━━━━━━━━━━━━━━╇━━━━━━━━━━━━━━━┩\n",
       "│ dense_11 (<span style=\"color: #0087ff; text-decoration-color: #0087ff\">Dense</span>)                │ (<span style=\"color: #00d7ff; text-decoration-color: #00d7ff\">None</span>, <span style=\"color: #00af00; text-decoration-color: #00af00\">64</span>)             │         <span style=\"color: #00af00; text-decoration-color: #00af00\">4,032</span> │\n",
       "├─────────────────────────────────┼────────────────────────┼───────────────┤\n",
       "│ dense_12 (<span style=\"color: #0087ff; text-decoration-color: #0087ff\">Dense</span>)                │ (<span style=\"color: #00d7ff; text-decoration-color: #00d7ff\">None</span>, <span style=\"color: #00af00; text-decoration-color: #00af00\">1</span>)              │            <span style=\"color: #00af00; text-decoration-color: #00af00\">65</span> │\n",
       "└─────────────────────────────────┴────────────────────────┴───────────────┘\n",
       "</pre>\n"
      ],
      "text/plain": [
       "┏━━━━━━━━━━━━━━━━━━━━━━━━━━━━━━━━━┳━━━━━━━━━━━━━━━━━━━━━━━━┳━━━━━━━━━━━━━━━┓\n",
       "┃\u001b[1m \u001b[0m\u001b[1mLayer (type)                   \u001b[0m\u001b[1m \u001b[0m┃\u001b[1m \u001b[0m\u001b[1mOutput Shape          \u001b[0m\u001b[1m \u001b[0m┃\u001b[1m \u001b[0m\u001b[1m      Param #\u001b[0m\u001b[1m \u001b[0m┃\n",
       "┡━━━━━━━━━━━━━━━━━━━━━━━━━━━━━━━━━╇━━━━━━━━━━━━━━━━━━━━━━━━╇━━━━━━━━━━━━━━━┩\n",
       "│ dense_11 (\u001b[38;5;33mDense\u001b[0m)                │ (\u001b[38;5;45mNone\u001b[0m, \u001b[38;5;34m64\u001b[0m)             │         \u001b[38;5;34m4,032\u001b[0m │\n",
       "├─────────────────────────────────┼────────────────────────┼───────────────┤\n",
       "│ dense_12 (\u001b[38;5;33mDense\u001b[0m)                │ (\u001b[38;5;45mNone\u001b[0m, \u001b[38;5;34m1\u001b[0m)              │            \u001b[38;5;34m65\u001b[0m │\n",
       "└─────────────────────────────────┴────────────────────────┴───────────────┘\n"
      ]
     },
     "metadata": {},
     "output_type": "display_data"
    },
    {
     "data": {
      "text/html": [
       "<pre style=\"white-space:pre;overflow-x:auto;line-height:normal;font-family:Menlo,'DejaVu Sans Mono',consolas,'Courier New',monospace\"><span style=\"font-weight: bold\"> Total params: </span><span style=\"color: #00af00; text-decoration-color: #00af00\">4,097</span> (16.00 KB)\n",
       "</pre>\n"
      ],
      "text/plain": [
       "\u001b[1m Total params: \u001b[0m\u001b[38;5;34m4,097\u001b[0m (16.00 KB)\n"
      ]
     },
     "metadata": {},
     "output_type": "display_data"
    },
    {
     "data": {
      "text/html": [
       "<pre style=\"white-space:pre;overflow-x:auto;line-height:normal;font-family:Menlo,'DejaVu Sans Mono',consolas,'Courier New',monospace\"><span style=\"font-weight: bold\"> Trainable params: </span><span style=\"color: #00af00; text-decoration-color: #00af00\">4,097</span> (16.00 KB)\n",
       "</pre>\n"
      ],
      "text/plain": [
       "\u001b[1m Trainable params: \u001b[0m\u001b[38;5;34m4,097\u001b[0m (16.00 KB)\n"
      ]
     },
     "metadata": {},
     "output_type": "display_data"
    },
    {
     "data": {
      "text/html": [
       "<pre style=\"white-space:pre;overflow-x:auto;line-height:normal;font-family:Menlo,'DejaVu Sans Mono',consolas,'Courier New',monospace\"><span style=\"font-weight: bold\"> Non-trainable params: </span><span style=\"color: #00af00; text-decoration-color: #00af00\">0</span> (0.00 B)\n",
       "</pre>\n"
      ],
      "text/plain": [
       "\u001b[1m Non-trainable params: \u001b[0m\u001b[38;5;34m0\u001b[0m (0.00 B)\n"
      ]
     },
     "metadata": {},
     "output_type": "display_data"
    }
   ],
   "source": [
    "model.summary()"
   ]
  },
  {
   "cell_type": "code",
   "execution_count": null,
   "metadata": {},
   "outputs": [
    {
     "name": "stdout",
     "output_type": "stream",
     "text": [
      "X_train shape: (898772, 62)\n",
      "Model input shape: (None, 62)\n"
     ]
    }
   ],
   "source": [
    "print(f\"X_train shape: {X_train.shape}\")\n",
    "print(f\"Model input shape: {model.input_shape}\")\n",
    "print(f\"Model input shape: {model.input_shape}\")"
   ]
  },
  {
   "cell_type": "code",
   "execution_count": 66,
   "metadata": {},
   "outputs": [
    {
     "name": "stdout",
     "output_type": "stream",
     "text": [
      "Epoch 1/10\n",
      "\u001b[1m29960/29960\u001b[0m \u001b[32m━━━━━━━━━━━━━━━━━━━━\u001b[0m\u001b[37m\u001b[0m \u001b[1m38s\u001b[0m 1ms/step - loss: 836.7770 - mse: 836.7770\n",
      "Epoch 2/10\n",
      "\u001b[1m29960/29960\u001b[0m \u001b[32m━━━━━━━━━━━━━━━━━━━━\u001b[0m\u001b[37m\u001b[0m \u001b[1m39s\u001b[0m 1ms/step - loss: 1362.5509 - mse: 1362.5509\n",
      "Epoch 3/10\n",
      "\u001b[1m29960/29960\u001b[0m \u001b[32m━━━━━━━━━━━━━━━━━━━━\u001b[0m\u001b[37m\u001b[0m \u001b[1m40s\u001b[0m 1ms/step - loss: 968.2200 - mse: 968.2199\n",
      "Epoch 4/10\n",
      "\u001b[1m29960/29960\u001b[0m \u001b[32m━━━━━━━━━━━━━━━━━━━━\u001b[0m\u001b[37m\u001b[0m \u001b[1m40s\u001b[0m 1ms/step - loss: 826.3602 - mse: 826.3602\n",
      "Epoch 5/10\n",
      "\u001b[1m29960/29960\u001b[0m \u001b[32m━━━━━━━━━━━━━━━━━━━━\u001b[0m\u001b[37m\u001b[0m \u001b[1m38s\u001b[0m 1ms/step - loss: 939.8710 - mse: 939.8709\n",
      "Epoch 6/10\n",
      "\u001b[1m29960/29960\u001b[0m \u001b[32m━━━━━━━━━━━━━━━━━━━━\u001b[0m\u001b[37m\u001b[0m \u001b[1m42s\u001b[0m 1ms/step - loss: 1373.0405 - mse: 1373.0405\n",
      "Epoch 7/10\n",
      "\u001b[1m29960/29960\u001b[0m \u001b[32m━━━━━━━━━━━━━━━━━━━━\u001b[0m\u001b[37m\u001b[0m \u001b[1m41s\u001b[0m 1ms/step - loss: 927.8677 - mse: 927.8677\n",
      "Epoch 8/10\n",
      "\u001b[1m29960/29960\u001b[0m \u001b[32m━━━━━━━━━━━━━━━━━━━━\u001b[0m\u001b[37m\u001b[0m \u001b[1m40s\u001b[0m 1ms/step - loss: 1013.4240 - mse: 1013.4240\n",
      "Epoch 9/10\n",
      "\u001b[1m29960/29960\u001b[0m \u001b[32m━━━━━━━━━━━━━━━━━━━━\u001b[0m\u001b[37m\u001b[0m \u001b[1m39s\u001b[0m 1ms/step - loss: 760.1992 - mse: 760.1992\n",
      "Epoch 10/10\n",
      "\u001b[1m29960/29960\u001b[0m \u001b[32m━━━━━━━━━━━━━━━━━━━━\u001b[0m\u001b[37m\u001b[0m \u001b[1m39s\u001b[0m 1ms/step - loss: 926.5357 - mse: 926.5357\n"
     ]
    },
    {
     "data": {
      "text/plain": [
       "<keras.src.callbacks.history.History at 0x1e50e313810>"
      ]
     },
     "execution_count": 66,
     "metadata": {},
     "output_type": "execute_result"
    }
   ],
   "source": [
    "model.fit(X_train, y_train, batch_size = 30, epochs = 10)"
   ]
  },
  {
   "cell_type": "code",
   "execution_count": 67,
   "metadata": {},
   "outputs": [
    {
     "name": "stdout",
     "output_type": "stream",
     "text": [
      "\u001b[1m7022/7022\u001b[0m \u001b[32m━━━━━━━━━━━━━━━━━━━━\u001b[0m\u001b[37m\u001b[0m \u001b[1m7s\u001b[0m 952us/step\n"
     ]
    }
   ],
   "source": [
    "y_pred = model.predict(X_test)"
   ]
  },
  {
   "cell_type": "code",
   "execution_count": 69,
   "metadata": {},
   "outputs": [
    {
     "name": "stdout",
     "output_type": "stream",
     "text": [
      "Mean Squared Error from model.evaluate: 1011.3938598632812\n",
      "Mean Squared Error (MSE): 1011.3975638963086\n",
      "Root Mean Squared Error (RMSE): 31.802477323257516\n",
      "Mean Absolute Error (MAE): 16.697921672575774\n",
      "R² Score: 0.21631485223770142\n"
     ]
    }
   ],
   "source": [
    "from sklearn.metrics import mean_squared_error, mean_absolute_error, r2_score\n",
    "import numpy as np\n",
    "import matplotlib.pyplot as plt\n",
    "\n",
    "loss, mse = model.evaluate(X_test, y_test, verbose=0)\n",
    "print(f\"Mean Squared Error from model.evaluate: {mse}\")\n",
    "\n",
    "mse = mean_squared_error(y_test, y_pred)\n",
    "rmse = np.sqrt(mse)  \n",
    "mae = mean_absolute_error(y_test, y_pred)\n",
    "r2 = r2_score(y_test, y_pred)\n",
    "\n",
    "print(f\"Mean Squared Error (MSE): {mse}\")\n",
    "print(f\"Root Mean Squared Error (RMSE): {rmse}\")\n",
    "print(f\"Mean Absolute Error (MAE): {mae}\")\n",
    "print(f\"R² Score: {r2}\")\n"
   ]
  }
 ],
 "metadata": {
  "kernelspec": {
   "display_name": "Python 3",
   "language": "python",
   "name": "python3"
  },
  "language_info": {
   "codemirror_mode": {
    "name": "ipython",
    "version": 3
   },
   "file_extension": ".py",
   "mimetype": "text/x-python",
   "name": "python",
   "nbconvert_exporter": "python",
   "pygments_lexer": "ipython3",
   "version": "3.11.5"
  }
 },
 "nbformat": 4,
 "nbformat_minor": 2
}
