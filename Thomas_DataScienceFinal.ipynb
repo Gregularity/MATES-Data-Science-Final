{
 "cells": [
  {
   "cell_type": "code",
   "execution_count": 130,
   "metadata": {},
   "outputs": [],
   "source": [
    "import pandas as pd\n",
    "import numpy as np\n",
    "import matplotlib.pyplot as plt\n",
    "import pandas as pd\n",
    "df = pd.read_csv(\"C:/Users/matthewthomas/US_AQI.csv\")"
   ]
  },
  {
   "cell_type": "code",
   "execution_count": 131,
   "metadata": {},
   "outputs": [
    {
     "data": {
      "text/plain": [
       "(5617325, 15)"
      ]
     },
     "execution_count": 131,
     "metadata": {},
     "output_type": "execute_result"
    }
   ],
   "source": [
    "df.shape"
   ]
  },
  {
   "cell_type": "code",
   "execution_count": 132,
   "metadata": {},
   "outputs": [
    {
     "data": {
      "text/plain": [
       "(1123465, 15)"
      ]
     },
     "execution_count": 132,
     "metadata": {},
     "output_type": "execute_result"
    }
   ],
   "source": [
    "df = df[::5]\n",
    "df.shape"
   ]
  },
  {
   "cell_type": "code",
   "execution_count": 133,
   "metadata": {},
   "outputs": [
    {
     "data": {
      "text/html": [
       "<div>\n",
       "<style scoped>\n",
       "    .dataframe tbody tr th:only-of-type {\n",
       "        vertical-align: middle;\n",
       "    }\n",
       "\n",
       "    .dataframe tbody tr th {\n",
       "        vertical-align: top;\n",
       "    }\n",
       "\n",
       "    .dataframe thead th {\n",
       "        text-align: right;\n",
       "    }\n",
       "</style>\n",
       "<table border=\"1\" class=\"dataframe\">\n",
       "  <thead>\n",
       "    <tr style=\"text-align: right;\">\n",
       "      <th></th>\n",
       "      <th>Unnamed: 0</th>\n",
       "      <th>CBSA Code</th>\n",
       "      <th>Date</th>\n",
       "      <th>AQI</th>\n",
       "      <th>Category</th>\n",
       "      <th>Defining Parameter</th>\n",
       "      <th>Number of Sites Reporting</th>\n",
       "      <th>city_ascii</th>\n",
       "      <th>state_id</th>\n",
       "      <th>state_name</th>\n",
       "      <th>lat</th>\n",
       "      <th>lng</th>\n",
       "      <th>population</th>\n",
       "      <th>density</th>\n",
       "      <th>timezone</th>\n",
       "    </tr>\n",
       "  </thead>\n",
       "  <tbody>\n",
       "    <tr>\n",
       "      <th>0</th>\n",
       "      <td>0</td>\n",
       "      <td>10140</td>\n",
       "      <td>2022-01-01</td>\n",
       "      <td>21</td>\n",
       "      <td>Good</td>\n",
       "      <td>PM2.5</td>\n",
       "      <td>2</td>\n",
       "      <td>Aberdeen</td>\n",
       "      <td>WA</td>\n",
       "      <td>Washington</td>\n",
       "      <td>46.9757</td>\n",
       "      <td>-123.8094</td>\n",
       "      <td>16571.0</td>\n",
       "      <td>588.0</td>\n",
       "      <td>America/Los_Angeles</td>\n",
       "    </tr>\n",
       "    <tr>\n",
       "      <th>5</th>\n",
       "      <td>5</td>\n",
       "      <td>10140</td>\n",
       "      <td>2022-01-06</td>\n",
       "      <td>15</td>\n",
       "      <td>Good</td>\n",
       "      <td>PM2.5</td>\n",
       "      <td>2</td>\n",
       "      <td>Aberdeen</td>\n",
       "      <td>WA</td>\n",
       "      <td>Washington</td>\n",
       "      <td>46.9757</td>\n",
       "      <td>-123.8094</td>\n",
       "      <td>16571.0</td>\n",
       "      <td>588.0</td>\n",
       "      <td>America/Los_Angeles</td>\n",
       "    </tr>\n",
       "    <tr>\n",
       "      <th>10</th>\n",
       "      <td>10</td>\n",
       "      <td>10140</td>\n",
       "      <td>2022-01-11</td>\n",
       "      <td>20</td>\n",
       "      <td>Good</td>\n",
       "      <td>PM2.5</td>\n",
       "      <td>2</td>\n",
       "      <td>Aberdeen</td>\n",
       "      <td>WA</td>\n",
       "      <td>Washington</td>\n",
       "      <td>46.9757</td>\n",
       "      <td>-123.8094</td>\n",
       "      <td>16571.0</td>\n",
       "      <td>588.0</td>\n",
       "      <td>America/Los_Angeles</td>\n",
       "    </tr>\n",
       "    <tr>\n",
       "      <th>15</th>\n",
       "      <td>15</td>\n",
       "      <td>10140</td>\n",
       "      <td>2022-01-16</td>\n",
       "      <td>18</td>\n",
       "      <td>Good</td>\n",
       "      <td>PM2.5</td>\n",
       "      <td>2</td>\n",
       "      <td>Aberdeen</td>\n",
       "      <td>WA</td>\n",
       "      <td>Washington</td>\n",
       "      <td>46.9757</td>\n",
       "      <td>-123.8094</td>\n",
       "      <td>16571.0</td>\n",
       "      <td>588.0</td>\n",
       "      <td>America/Los_Angeles</td>\n",
       "    </tr>\n",
       "    <tr>\n",
       "      <th>20</th>\n",
       "      <td>20</td>\n",
       "      <td>10140</td>\n",
       "      <td>2022-01-21</td>\n",
       "      <td>13</td>\n",
       "      <td>Good</td>\n",
       "      <td>PM2.5</td>\n",
       "      <td>2</td>\n",
       "      <td>Aberdeen</td>\n",
       "      <td>WA</td>\n",
       "      <td>Washington</td>\n",
       "      <td>46.9757</td>\n",
       "      <td>-123.8094</td>\n",
       "      <td>16571.0</td>\n",
       "      <td>588.0</td>\n",
       "      <td>America/Los_Angeles</td>\n",
       "    </tr>\n",
       "  </tbody>\n",
       "</table>\n",
       "</div>"
      ],
      "text/plain": [
       "    Unnamed: 0  CBSA Code        Date  AQI Category Defining Parameter  \\\n",
       "0            0      10140  2022-01-01   21     Good              PM2.5   \n",
       "5            5      10140  2022-01-06   15     Good              PM2.5   \n",
       "10          10      10140  2022-01-11   20     Good              PM2.5   \n",
       "15          15      10140  2022-01-16   18     Good              PM2.5   \n",
       "20          20      10140  2022-01-21   13     Good              PM2.5   \n",
       "\n",
       "    Number of Sites Reporting city_ascii state_id  state_name      lat  \\\n",
       "0                           2   Aberdeen       WA  Washington  46.9757   \n",
       "5                           2   Aberdeen       WA  Washington  46.9757   \n",
       "10                          2   Aberdeen       WA  Washington  46.9757   \n",
       "15                          2   Aberdeen       WA  Washington  46.9757   \n",
       "20                          2   Aberdeen       WA  Washington  46.9757   \n",
       "\n",
       "         lng  population  density             timezone  \n",
       "0  -123.8094     16571.0    588.0  America/Los_Angeles  \n",
       "5  -123.8094     16571.0    588.0  America/Los_Angeles  \n",
       "10 -123.8094     16571.0    588.0  America/Los_Angeles  \n",
       "15 -123.8094     16571.0    588.0  America/Los_Angeles  \n",
       "20 -123.8094     16571.0    588.0  America/Los_Angeles  "
      ]
     },
     "execution_count": 133,
     "metadata": {},
     "output_type": "execute_result"
    }
   ],
   "source": [
    "df.head()"
   ]
  },
  {
   "cell_type": "code",
   "execution_count": 134,
   "metadata": {},
   "outputs": [
    {
     "data": {
      "text/plain": [
       "Index(['Unnamed: 0', 'CBSA Code', 'Date', 'AQI', 'Category',\n",
       "       'Defining Parameter', 'Number of Sites Reporting', 'city_ascii',\n",
       "       'state_id', 'state_name', 'lat', 'lng', 'population', 'density',\n",
       "       'timezone'],\n",
       "      dtype='object')"
      ]
     },
     "execution_count": 134,
     "metadata": {},
     "output_type": "execute_result"
    }
   ],
   "source": [
    "df.columns"
   ]
  },
  {
   "cell_type": "code",
   "execution_count": 135,
   "metadata": {},
   "outputs": [],
   "source": [
    "df.drop([\"Unnamed: 0\", \"CBSA Code\", \"Category\",'city_ascii', \"Number of Sites Reporting\", \"state_id\", \"timezone\"], axis = 1, inplace = True)"
   ]
  },
  {
   "cell_type": "code",
   "execution_count": 136,
   "metadata": {},
   "outputs": [
    {
     "data": {
      "text/plain": [
       "Index(['Date', 'AQI', 'Defining Parameter', 'state_name', 'lat', 'lng',\n",
       "       'population', 'density'],\n",
       "      dtype='object')"
      ]
     },
     "execution_count": 136,
     "metadata": {},
     "output_type": "execute_result"
    }
   ],
   "source": [
    "df.columns"
   ]
  },
  {
   "cell_type": "code",
   "execution_count": 137,
   "metadata": {},
   "outputs": [],
   "source": [
    "import datetime as dt\n",
    "\n",
    "df['Date'] = pd.to_datetime(df['Date'])\n",
    "df['Date'] = (df['Date'] - dt.datetime(1970,1,1)).dt.total_seconds()"
   ]
  },
  {
   "cell_type": "code",
   "execution_count": 138,
   "metadata": {},
   "outputs": [
    {
     "name": "stdout",
     "output_type": "stream",
     "text": [
      "              0      1           2        3         4         5       6\n",
      "0  1640995200.0  PM2.5  Washington  46.9757 -123.8094   16571.0   588.0\n",
      "1  1641427200.0  PM2.5  Washington  46.9757 -123.8094   16571.0   588.0\n",
      "2  1641859200.0  PM2.5  Washington  46.9757 -123.8094   16571.0   588.0\n",
      "3  1642291200.0  PM2.5  Washington  46.9757 -123.8094   16571.0   588.0\n",
      "4  1642723200.0  PM2.5  Washington  46.9757 -123.8094   16571.0   588.0\n",
      "5  1643155200.0  PM2.5  Washington  46.9757 -123.8094   16571.0   588.0\n",
      "6  1643587200.0  PM2.5  Washington  46.9757 -123.8094   16571.0   588.0\n",
      "7  1641340800.0  PM2.5        Ohio  41.0798  -81.5219  570375.0  1230.0\n",
      "8  1641772800.0  PM2.5        Ohio  41.0798  -81.5219  570375.0  1230.0\n",
      "9  1642204800.0  PM2.5        Ohio  41.0798  -81.5219  570375.0  1230.0\n",
      "    0\n",
      "0  21\n",
      "1  15\n",
      "2  20\n",
      "3  18\n",
      "4  13\n",
      "5  28\n",
      "6  18\n",
      "7  30\n",
      "8  20\n",
      "9  17\n"
     ]
    }
   ],
   "source": [
    "df = df[['Date', 'Defining Parameter', 'state_name', 'lat',\n",
    "       'lng', 'population', 'density', \"AQI\"]]\n",
    "X = df.iloc[:, 0:7].values\n",
    "y = df.iloc[:, 7].values\n",
    "print(pd.DataFrame(X[:10]))\n",
    "print(pd.DataFrame(y[:10]))"
   ]
  },
  {
   "cell_type": "code",
   "execution_count": 139,
   "metadata": {},
   "outputs": [
    {
     "data": {
      "text/plain": [
       "Date                  float64\n",
       "Defining Parameter     object\n",
       "state_name             object\n",
       "lat                   float64\n",
       "lng                   float64\n",
       "population            float64\n",
       "density               float64\n",
       "AQI                     int64\n",
       "dtype: object"
      ]
     },
     "execution_count": 139,
     "metadata": {},
     "output_type": "execute_result"
    }
   ],
   "source": [
    "df.dtypes"
   ]
  },
  {
   "cell_type": "code",
   "execution_count": 140,
   "metadata": {},
   "outputs": [
    {
     "data": {
      "text/plain": [
       "Date                  float64\n",
       "Defining Parameter     object\n",
       "state_name             object\n",
       "lat                   float64\n",
       "lng                   float64\n",
       "population            float64\n",
       "density               float64\n",
       "AQI                     int64\n",
       "dtype: object"
      ]
     },
     "execution_count": 140,
     "metadata": {},
     "output_type": "execute_result"
    }
   ],
   "source": [
    "df.dtypes"
   ]
  },
  {
   "cell_type": "code",
   "execution_count": 141,
   "metadata": {},
   "outputs": [
    {
     "data": {
      "text/html": [
       "<div>\n",
       "<style scoped>\n",
       "    .dataframe tbody tr th:only-of-type {\n",
       "        vertical-align: middle;\n",
       "    }\n",
       "\n",
       "    .dataframe tbody tr th {\n",
       "        vertical-align: top;\n",
       "    }\n",
       "\n",
       "    .dataframe thead th {\n",
       "        text-align: right;\n",
       "    }\n",
       "</style>\n",
       "<table border=\"1\" class=\"dataframe\">\n",
       "  <thead>\n",
       "    <tr style=\"text-align: right;\">\n",
       "      <th></th>\n",
       "      <th>Date</th>\n",
       "      <th>Defining Parameter</th>\n",
       "      <th>state_name</th>\n",
       "      <th>lat</th>\n",
       "      <th>lng</th>\n",
       "      <th>population</th>\n",
       "      <th>density</th>\n",
       "      <th>AQI</th>\n",
       "    </tr>\n",
       "  </thead>\n",
       "  <tbody>\n",
       "    <tr>\n",
       "      <th>0</th>\n",
       "      <td>1.640995e+09</td>\n",
       "      <td>PM2.5</td>\n",
       "      <td>Washington</td>\n",
       "      <td>46.9757</td>\n",
       "      <td>-123.8094</td>\n",
       "      <td>16571.0</td>\n",
       "      <td>588.0</td>\n",
       "      <td>21</td>\n",
       "    </tr>\n",
       "    <tr>\n",
       "      <th>5</th>\n",
       "      <td>1.641427e+09</td>\n",
       "      <td>PM2.5</td>\n",
       "      <td>Washington</td>\n",
       "      <td>46.9757</td>\n",
       "      <td>-123.8094</td>\n",
       "      <td>16571.0</td>\n",
       "      <td>588.0</td>\n",
       "      <td>15</td>\n",
       "    </tr>\n",
       "    <tr>\n",
       "      <th>10</th>\n",
       "      <td>1.641859e+09</td>\n",
       "      <td>PM2.5</td>\n",
       "      <td>Washington</td>\n",
       "      <td>46.9757</td>\n",
       "      <td>-123.8094</td>\n",
       "      <td>16571.0</td>\n",
       "      <td>588.0</td>\n",
       "      <td>20</td>\n",
       "    </tr>\n",
       "    <tr>\n",
       "      <th>15</th>\n",
       "      <td>1.642291e+09</td>\n",
       "      <td>PM2.5</td>\n",
       "      <td>Washington</td>\n",
       "      <td>46.9757</td>\n",
       "      <td>-123.8094</td>\n",
       "      <td>16571.0</td>\n",
       "      <td>588.0</td>\n",
       "      <td>18</td>\n",
       "    </tr>\n",
       "    <tr>\n",
       "      <th>20</th>\n",
       "      <td>1.642723e+09</td>\n",
       "      <td>PM2.5</td>\n",
       "      <td>Washington</td>\n",
       "      <td>46.9757</td>\n",
       "      <td>-123.8094</td>\n",
       "      <td>16571.0</td>\n",
       "      <td>588.0</td>\n",
       "      <td>13</td>\n",
       "    </tr>\n",
       "  </tbody>\n",
       "</table>\n",
       "</div>"
      ],
      "text/plain": [
       "            Date Defining Parameter  state_name      lat       lng  \\\n",
       "0   1.640995e+09              PM2.5  Washington  46.9757 -123.8094   \n",
       "5   1.641427e+09              PM2.5  Washington  46.9757 -123.8094   \n",
       "10  1.641859e+09              PM2.5  Washington  46.9757 -123.8094   \n",
       "15  1.642291e+09              PM2.5  Washington  46.9757 -123.8094   \n",
       "20  1.642723e+09              PM2.5  Washington  46.9757 -123.8094   \n",
       "\n",
       "    population  density  AQI  \n",
       "0      16571.0    588.0   21  \n",
       "5      16571.0    588.0   15  \n",
       "10     16571.0    588.0   20  \n",
       "15     16571.0    588.0   18  \n",
       "20     16571.0    588.0   13  "
      ]
     },
     "execution_count": 141,
     "metadata": {},
     "output_type": "execute_result"
    }
   ],
   "source": [
    "df.head()"
   ]
  },
  {
   "cell_type": "code",
   "execution_count": 142,
   "metadata": {},
   "outputs": [],
   "source": [
    "from sklearn.preprocessing import LabelEncoder, OneHotEncoder\n",
    "from sklearn.compose import ColumnTransformer"
   ]
  },
  {
   "cell_type": "code",
   "execution_count": 143,
   "metadata": {},
   "outputs": [
    {
     "name": "stdout",
     "output_type": "stream",
     "text": [
      "              0      1           2        3         4        5      6\n",
      "0  1640995200.0  PM2.5  Washington  46.9757 -123.8094  16571.0  588.0\n",
      "1  1641427200.0  PM2.5  Washington  46.9757 -123.8094  16571.0  588.0\n",
      "2  1641859200.0  PM2.5  Washington  46.9757 -123.8094  16571.0  588.0\n"
     ]
    }
   ],
   "source": [
    "print(pd.DataFrame(X[:3]))"
   ]
  },
  {
   "cell_type": "code",
   "execution_count": 144,
   "metadata": {},
   "outputs": [
    {
     "name": "stdout",
     "output_type": "stream",
     "text": [
      "    0    1    2    3    4             5           6        7         8   \\\n",
      "0  0.0  0.0  0.0  0.0  1.0  1640995200.0  Washington  46.9757 -123.8094   \n",
      "1  0.0  0.0  0.0  0.0  1.0  1641427200.0  Washington  46.9757 -123.8094   \n",
      "2  0.0  0.0  0.0  0.0  1.0  1641859200.0  Washington  46.9757 -123.8094   \n",
      "3  0.0  0.0  0.0  0.0  1.0  1642291200.0  Washington  46.9757 -123.8094   \n",
      "4  0.0  0.0  0.0  0.0  1.0  1642723200.0  Washington  46.9757 -123.8094   \n",
      "5  0.0  0.0  0.0  0.0  1.0  1643155200.0  Washington  46.9757 -123.8094   \n",
      "6  0.0  0.0  0.0  0.0  1.0  1643587200.0  Washington  46.9757 -123.8094   \n",
      "7  0.0  0.0  0.0  0.0  1.0  1641340800.0        Ohio  41.0798  -81.5219   \n",
      "8  0.0  0.0  0.0  0.0  1.0  1641772800.0        Ohio  41.0798  -81.5219   \n",
      "9  0.0  0.0  0.0  0.0  1.0  1642204800.0        Ohio  41.0798  -81.5219   \n",
      "\n",
      "         9       10  \n",
      "0   16571.0   588.0  \n",
      "1   16571.0   588.0  \n",
      "2   16571.0   588.0  \n",
      "3   16571.0   588.0  \n",
      "4   16571.0   588.0  \n",
      "5   16571.0   588.0  \n",
      "6   16571.0   588.0  \n",
      "7  570375.0  1230.0  \n",
      "8  570375.0  1230.0  \n",
      "9  570375.0  1230.0  \n"
     ]
    }
   ],
   "source": [
    "ct = ColumnTransformer([(\"Defining Parameter\", OneHotEncoder(), [1])], remainder = 'passthrough', sparse_threshold=0)\n",
    "X = ct.fit_transform(X)\n",
    "print(pd.DataFrame(X[:10]))"
   ]
  },
  {
   "cell_type": "code",
   "execution_count": 145,
   "metadata": {},
   "outputs": [
    {
     "data": {
      "text/plain": [
       "Date                  float64\n",
       "Defining Parameter     object\n",
       "state_name             object\n",
       "lat                   float64\n",
       "lng                   float64\n",
       "population            float64\n",
       "density               float64\n",
       "AQI                     int64\n",
       "dtype: object"
      ]
     },
     "execution_count": 145,
     "metadata": {},
     "output_type": "execute_result"
    }
   ],
   "source": [
    "df.dtypes"
   ]
  },
  {
   "cell_type": "code",
   "execution_count": 146,
   "metadata": {},
   "outputs": [
    {
     "name": "stdout",
     "output_type": "stream",
     "text": [
      "    0    1    2    3    4    5    6    7    8    9   ...   52   53   54   55  \\\n",
      "0  0.0  0.0  0.0  0.0  0.0  0.0  0.0  0.0  0.0  0.0  ...  0.0  0.0  0.0  0.0   \n",
      "1  0.0  0.0  0.0  0.0  0.0  0.0  0.0  0.0  0.0  0.0  ...  0.0  0.0  0.0  0.0   \n",
      "2  0.0  0.0  0.0  0.0  0.0  0.0  0.0  0.0  0.0  0.0  ...  0.0  0.0  0.0  0.0   \n",
      "3  0.0  0.0  0.0  0.0  0.0  0.0  0.0  0.0  0.0  0.0  ...  0.0  0.0  0.0  0.0   \n",
      "4  0.0  0.0  0.0  0.0  0.0  0.0  0.0  0.0  0.0  0.0  ...  0.0  0.0  0.0  0.0   \n",
      "5  0.0  0.0  0.0  0.0  0.0  0.0  0.0  0.0  0.0  0.0  ...  0.0  0.0  0.0  0.0   \n",
      "6  0.0  0.0  0.0  0.0  0.0  0.0  0.0  0.0  0.0  0.0  ...  0.0  0.0  0.0  0.0   \n",
      "7  0.0  0.0  0.0  0.0  0.0  0.0  0.0  0.0  0.0  0.0  ...  0.0  0.0  0.0  0.0   \n",
      "8  0.0  0.0  0.0  0.0  0.0  0.0  0.0  0.0  0.0  0.0  ...  0.0  0.0  0.0  0.0   \n",
      "9  0.0  0.0  0.0  0.0  0.0  0.0  0.0  0.0  0.0  0.0  ...  0.0  0.0  0.0  0.0   \n",
      "\n",
      "    56            57       58        59        60      61  \n",
      "0  1.0  1640995200.0  46.9757 -123.8094   16571.0   588.0  \n",
      "1  1.0  1641427200.0  46.9757 -123.8094   16571.0   588.0  \n",
      "2  1.0  1641859200.0  46.9757 -123.8094   16571.0   588.0  \n",
      "3  1.0  1642291200.0  46.9757 -123.8094   16571.0   588.0  \n",
      "4  1.0  1642723200.0  46.9757 -123.8094   16571.0   588.0  \n",
      "5  1.0  1643155200.0  46.9757 -123.8094   16571.0   588.0  \n",
      "6  1.0  1643587200.0  46.9757 -123.8094   16571.0   588.0  \n",
      "7  1.0  1641340800.0  41.0798  -81.5219  570375.0  1230.0  \n",
      "8  1.0  1641772800.0  41.0798  -81.5219  570375.0  1230.0  \n",
      "9  1.0  1642204800.0  41.0798  -81.5219  570375.0  1230.0  \n",
      "\n",
      "[10 rows x 62 columns]\n"
     ]
    }
   ],
   "source": [
    "ct = ColumnTransformer([(\"state_name\", OneHotEncoder(), [6])], remainder = 'passthrough', sparse_threshold=0)\n",
    "X = ct.fit_transform(X)\n",
    "print(pd.DataFrame(X[:10]))"
   ]
  },
  {
   "cell_type": "code",
   "execution_count": 147,
   "metadata": {},
   "outputs": [
    {
     "data": {
      "text/plain": [
       "Date                  15486\n",
       "Defining Parameter        5\n",
       "state_name               52\n",
       "lat                     670\n",
       "lng                     671\n",
       "population              669\n",
       "density                 534\n",
       "AQI                     460\n",
       "dtype: int64"
      ]
     },
     "execution_count": 147,
     "metadata": {},
     "output_type": "execute_result"
    }
   ],
   "source": [
    "df.nunique()"
   ]
  },
  {
   "cell_type": "code",
   "execution_count": 148,
   "metadata": {},
   "outputs": [],
   "source": [
    "from sklearn.model_selection import train_test_split\n",
    "X_train, X_test, y_train, y_test = train_test_split(X, y, test_size = 0.2, random_state = 0)"
   ]
  },
  {
   "cell_type": "code",
   "execution_count": 149,
   "metadata": {},
   "outputs": [],
   "source": [
    "# Feature Scaling\n",
    "from sklearn.preprocessing import StandardScaler\n",
    "sc = StandardScaler()\n",
    "X_train = sc.fit_transform(X_train)\n",
    "X_test = sc.transform(X_test)"
   ]
  },
  {
   "cell_type": "code",
   "execution_count": 150,
   "metadata": {},
   "outputs": [],
   "source": [
    "from tensorflow.keras.models import Sequential # For building the Neural Network layer by layer\n",
    "from tensorflow.keras.layers import Dense # To randomly initialize the weights to small numbers close to 0(But not 0)"
   ]
  },
  {
   "cell_type": "code",
   "execution_count": 164,
   "metadata": {},
   "outputs": [],
   "source": [
    "classifier = Sequential()"
   ]
  },
  {
   "cell_type": "code",
   "execution_count": 165,
   "metadata": {},
   "outputs": [],
   "source": [
    "classifier.add(Dense(activation=\"relu\", input_dim=63, units=31, kernel_initializer=\"uniform\"))"
   ]
  },
  {
   "cell_type": "code",
   "execution_count": 166,
   "metadata": {},
   "outputs": [],
   "source": [
    "classifier.add(Dense(activation=\"relu\", units=31, kernel_initializer=\"uniform\"))"
   ]
  },
  {
   "cell_type": "code",
   "execution_count": 167,
   "metadata": {},
   "outputs": [],
   "source": [
    "classifier.add(Dense(activation=\"sigmoid\", units=1, kernel_initializer=\"uniform\"))"
   ]
  },
  {
   "cell_type": "code",
   "execution_count": 168,
   "metadata": {},
   "outputs": [],
   "source": [
    "classifier.compile(optimizer = 'adam', loss = 'binary_crossentropy', metrics = ['accuracy'])"
   ]
  },
  {
   "cell_type": "code",
   "execution_count": 169,
   "metadata": {},
   "outputs": [
    {
     "name": "stdout",
     "output_type": "stream",
     "text": [
      "Epoch 1/10\n"
     ]
    },
    {
     "ename": "ValueError",
     "evalue": "Exception encountered when calling Sequential.call().\n\n\u001b[1mInput 0 of layer \"dense_7\" is incompatible with the layer: expected axis -1 of input shape to have value 63, but received input with shape (None, 62)\u001b[0m\n\nArguments received by Sequential.call():\n  • inputs=tf.Tensor(shape=(None, 62), dtype=float32)\n  • training=True\n  • mask=None",
     "output_type": "error",
     "traceback": [
      "\u001b[1;31m---------------------------------------------------------------------------\u001b[0m",
      "\u001b[1;31mValueError\u001b[0m                                Traceback (most recent call last)",
      "Cell \u001b[1;32mIn[169], line 1\u001b[0m\n\u001b[1;32m----> 1\u001b[0m classifier\u001b[38;5;241m.\u001b[39mfit(X_train, y_train, batch_size \u001b[38;5;241m=\u001b[39m \u001b[38;5;241m10\u001b[39m, epochs \u001b[38;5;241m=\u001b[39m \u001b[38;5;241m10\u001b[39m)\n",
      "File \u001b[1;32m~\\AppData\\Roaming\\Python\\Python311\\site-packages\\keras\\src\\utils\\traceback_utils.py:122\u001b[0m, in \u001b[0;36mfilter_traceback.<locals>.error_handler\u001b[1;34m(*args, **kwargs)\u001b[0m\n\u001b[0;32m    119\u001b[0m     filtered_tb \u001b[38;5;241m=\u001b[39m _process_traceback_frames(e\u001b[38;5;241m.\u001b[39m__traceback__)\n\u001b[0;32m    120\u001b[0m     \u001b[38;5;66;03m# To get the full stack trace, call:\u001b[39;00m\n\u001b[0;32m    121\u001b[0m     \u001b[38;5;66;03m# `keras.config.disable_traceback_filtering()`\u001b[39;00m\n\u001b[1;32m--> 122\u001b[0m     \u001b[38;5;28;01mraise\u001b[39;00m e\u001b[38;5;241m.\u001b[39mwith_traceback(filtered_tb) \u001b[38;5;28;01mfrom\u001b[39;00m \u001b[38;5;28;01mNone\u001b[39;00m\n\u001b[0;32m    123\u001b[0m \u001b[38;5;28;01mfinally\u001b[39;00m:\n\u001b[0;32m    124\u001b[0m     \u001b[38;5;28;01mdel\u001b[39;00m filtered_tb\n",
      "File \u001b[1;32m~\\AppData\\Roaming\\Python\\Python311\\site-packages\\keras\\src\\layers\\input_spec.py:227\u001b[0m, in \u001b[0;36massert_input_compatibility\u001b[1;34m(input_spec, inputs, layer_name)\u001b[0m\n\u001b[0;32m    222\u001b[0m     \u001b[38;5;28;01mfor\u001b[39;00m axis, value \u001b[38;5;129;01min\u001b[39;00m spec\u001b[38;5;241m.\u001b[39maxes\u001b[38;5;241m.\u001b[39mitems():\n\u001b[0;32m    223\u001b[0m         \u001b[38;5;28;01mif\u001b[39;00m value \u001b[38;5;129;01mis\u001b[39;00m \u001b[38;5;129;01mnot\u001b[39;00m \u001b[38;5;28;01mNone\u001b[39;00m \u001b[38;5;129;01mand\u001b[39;00m shape[axis] \u001b[38;5;129;01mnot\u001b[39;00m \u001b[38;5;129;01min\u001b[39;00m {\n\u001b[0;32m    224\u001b[0m             value,\n\u001b[0;32m    225\u001b[0m             \u001b[38;5;28;01mNone\u001b[39;00m,\n\u001b[0;32m    226\u001b[0m         }:\n\u001b[1;32m--> 227\u001b[0m             \u001b[38;5;28;01mraise\u001b[39;00m \u001b[38;5;167;01mValueError\u001b[39;00m(\n\u001b[0;32m    228\u001b[0m                 \u001b[38;5;124mf\u001b[39m\u001b[38;5;124m'\u001b[39m\u001b[38;5;124mInput \u001b[39m\u001b[38;5;132;01m{\u001b[39;00minput_index\u001b[38;5;132;01m}\u001b[39;00m\u001b[38;5;124m of layer \u001b[39m\u001b[38;5;124m\"\u001b[39m\u001b[38;5;132;01m{\u001b[39;00mlayer_name\u001b[38;5;132;01m}\u001b[39;00m\u001b[38;5;124m\"\u001b[39m\u001b[38;5;124m is \u001b[39m\u001b[38;5;124m'\u001b[39m\n\u001b[0;32m    229\u001b[0m                 \u001b[38;5;124mf\u001b[39m\u001b[38;5;124m\"\u001b[39m\u001b[38;5;124mincompatible with the layer: expected axis \u001b[39m\u001b[38;5;132;01m{\u001b[39;00maxis\u001b[38;5;132;01m}\u001b[39;00m\u001b[38;5;124m \u001b[39m\u001b[38;5;124m\"\u001b[39m\n\u001b[0;32m    230\u001b[0m                 \u001b[38;5;124mf\u001b[39m\u001b[38;5;124m\"\u001b[39m\u001b[38;5;124mof input shape to have value \u001b[39m\u001b[38;5;132;01m{\u001b[39;00mvalue\u001b[38;5;132;01m}\u001b[39;00m\u001b[38;5;124m, \u001b[39m\u001b[38;5;124m\"\u001b[39m\n\u001b[0;32m    231\u001b[0m                 \u001b[38;5;124m\"\u001b[39m\u001b[38;5;124mbut received input with \u001b[39m\u001b[38;5;124m\"\u001b[39m\n\u001b[0;32m    232\u001b[0m                 \u001b[38;5;124mf\u001b[39m\u001b[38;5;124m\"\u001b[39m\u001b[38;5;124mshape \u001b[39m\u001b[38;5;132;01m{\u001b[39;00mshape\u001b[38;5;132;01m}\u001b[39;00m\u001b[38;5;124m\"\u001b[39m\n\u001b[0;32m    233\u001b[0m             )\n\u001b[0;32m    234\u001b[0m \u001b[38;5;66;03m# Check shape.\u001b[39;00m\n\u001b[0;32m    235\u001b[0m \u001b[38;5;28;01mif\u001b[39;00m spec\u001b[38;5;241m.\u001b[39mshape \u001b[38;5;129;01mis\u001b[39;00m \u001b[38;5;129;01mnot\u001b[39;00m \u001b[38;5;28;01mNone\u001b[39;00m:\n",
      "\u001b[1;31mValueError\u001b[0m: Exception encountered when calling Sequential.call().\n\n\u001b[1mInput 0 of layer \"dense_7\" is incompatible with the layer: expected axis -1 of input shape to have value 63, but received input with shape (None, 62)\u001b[0m\n\nArguments received by Sequential.call():\n  • inputs=tf.Tensor(shape=(None, 62), dtype=float32)\n  • training=True\n  • mask=None"
     ]
    }
   ],
   "source": [
    "classifier.fit(X_train, y_train, batch_size = 10, epochs = 10)"
   ]
  },
  {
   "cell_type": "code",
   "execution_count": null,
   "metadata": {},
   "outputs": [],
   "source": [
    "y_pred = classifier.predict(X_test)"
   ]
  },
  {
   "cell_type": "code",
   "execution_count": null,
   "metadata": {},
   "outputs": [],
   "source": [
    "y_pred = (y_pred > 0.5)"
   ]
  },
  {
   "cell_type": "code",
   "execution_count": null,
   "metadata": {},
   "outputs": [],
   "source": [
    "from sklearn.metrics import confusion_matrix\n",
    "cm = confusion_matrix(y_test, y_pred)\n",
    "print(cm)\n",
    "tn, fp, fn, tp = cm.ravel()\n",
    "accuracy = (tn + tp) / (tn + tp + fn + fp)\n",
    "print(accuracy)"
   ]
  }
 ],
 "metadata": {
  "kernelspec": {
   "display_name": "base",
   "language": "python",
   "name": "python3"
  },
  "language_info": {
   "codemirror_mode": {
    "name": "ipython",
    "version": 3
   },
   "file_extension": ".py",
   "mimetype": "text/x-python",
   "name": "python",
   "nbconvert_exporter": "python",
   "pygments_lexer": "ipython3",
   "version": "3.11.5"
  }
 },
 "nbformat": 4,
 "nbformat_minor": 2
}
